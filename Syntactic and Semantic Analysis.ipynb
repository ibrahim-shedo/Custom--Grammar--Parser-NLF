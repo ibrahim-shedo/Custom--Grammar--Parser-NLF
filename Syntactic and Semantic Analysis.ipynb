{
 "cells": [
  {
   "cell_type": "markdown",
   "id": "062e0631-0f24-4902-a999-db1f5184e6fd",
   "metadata": {},
   "source": [
    "# Custom Grammar Parser"
   ]
  },
  {
   "cell_type": "markdown",
   "id": "badb3c9d-d1a5-498b-aabd-5fe7a6c0a877",
   "metadata": {},
   "source": [
    "## Define a custom CFG grammar and parse or(syntactic) a sentence using it."
   ]
  },
  {
   "cell_type": "code",
   "execution_count": 10,
   "id": "25dae928-b5cf-4a5e-969e-3cde09e811d7",
   "metadata": {},
   "outputs": [],
   "source": [
    "import nltk\n",
    "from nltk import CFG\n",
    "import random"
   ]
  },
  {
   "cell_type": "code",
   "execution_count": 2,
   "id": "668e79c1-3aa2-41f8-baf2-fbf52b685d52",
   "metadata": {},
   "outputs": [],
   "source": [
    "# Define a custom context-free grammar (CFG)\n",
    "grammar = CFG.fromstring(\"\"\"\n",
    "    S -> NP VP\n",
    "    NP -> Det N | Det Adj N\n",
    "    VP -> V NP | V NP PP\n",
    "    PP -> P NP\n",
    "    Det -> 'the' | 'a'\n",
    "    N -> 'cat' | 'dog' | 'mat'\n",
    "    V -> 'chased' | 'sat'\n",
    "    P -> 'on' | 'under'\n",
    "    Adj -> 'big' | 'small'\n",
    "\"\"\")\n"
   ]
  },
  {
   "cell_type": "code",
   "execution_count": 3,
   "id": "da0cacc1-3d42-4839-a131-42557426d405",
   "metadata": {},
   "outputs": [],
   "source": [
    "\n",
    "# Create a parser\n",
    "parser = nltk.ChartParser(grammar)"
   ]
  },
  {
   "cell_type": "code",
   "execution_count": 4,
   "id": "8586ab29-d45b-4e86-9ff2-4e2e16568a01",
   "metadata": {},
   "outputs": [],
   "source": [
    "# Define a sentence to parse\n",
    "sentence = ['the', 'big', 'cat', 'chased', 'a', 'dog']"
   ]
  },
  {
   "cell_type": "code",
   "execution_count": 5,
   "id": "a8e7e510-b605-41fe-88f8-34e55bd07fe3",
   "metadata": {},
   "outputs": [
    {
     "name": "stdout",
     "output_type": "stream",
     "text": [
      "(S\n",
      "  (NP (Det the) (Adj big) (N cat))\n",
      "  (VP (V chased) (NP (Det a) (N dog))))\n",
      "         S                    \n",
      "      ___|__________           \n",
      "     |              VP        \n",
      "     |         _____|___       \n",
      "     NP       |         NP    \n",
      "  ___|___     |      ___|___   \n",
      "Det Adj  N    V    Det      N \n",
      " |   |   |    |     |       |  \n",
      "the big cat chased  a      dog\n",
      "\n"
     ]
    }
   ],
   "source": [
    "# Parse the sentence\n",
    "for tree in parser.parse(sentence):\n",
    "    print(tree)\n",
    "    tree.pretty_print()\n"
   ]
  },
  {
   "cell_type": "markdown",
   "id": "06439333-6809-4022-bf99-dd2e44c678e2",
   "metadata": {},
   "source": [
    "# Sentence Generator"
   ]
  },
  {
   "cell_type": "markdown",
   "id": "8481a827-cc95-4d8b-b548-047a923fc79e",
   "metadata": {},
   "source": [
    "## Creating a random sentence generator using predefined grammar rules."
   ]
  },
  {
   "cell_type": "code",
   "execution_count": 7,
   "id": "e3bf6499-5ac4-4075-9f28-d207cc9842e3",
   "metadata": {},
   "outputs": [],
   "source": [
    "# Define a custom context-free grammar (CFG)\n",
    "grammar = CFG.fromstring(\"\"\"\n",
    "    S -> NP VP\n",
    "    NP -> Det N | Det Adj N\n",
    "    VP -> V NP | V NP PP\n",
    "    PP -> P NP\n",
    "    Det -> 'the' | 'a'\n",
    "    N -> 'cat' | 'dog' | 'mat' | 'bird'\n",
    "    V -> 'chased' | 'sat' | 'saw'\n",
    "    P -> 'on' | 'under' | 'near'\n",
    "    Adj -> 'big' | 'small' | 'lazy'\n",
    "\"\"\")"
   ]
  },
  {
   "cell_type": "code",
   "execution_count": 13,
   "id": "7d5274fd-a3a0-4e3b-a16c-387072965c9f",
   "metadata": {},
   "outputs": [],
   "source": [
    "# Create a parser\n",
    "parser = nltk.ChartParser(grammar)"
   ]
  },
  {
   "cell_type": "code",
   "execution_count": 17,
   "id": "532935af-3748-4c01-a4d3-4a3cd25c580b",
   "metadata": {},
   "outputs": [
    {
     "name": "stdout",
     "output_type": "stream",
     "text": [
      "the lazy dog saw a cat\n"
     ]
    }
   ],
   "source": [
    "# Generate a random sentence\n",
    "sentence = random.choice(['the big cat chased a dog', 'a small bird sat on the mat', 'the lazy dog saw a cat'])\n",
    "print(sentence)\n"
   ]
  }
 ],
 "metadata": {
  "kernelspec": {
   "display_name": "Python 3 (ipykernel)",
   "language": "python",
   "name": "python3"
  },
  "language_info": {
   "codemirror_mode": {
    "name": "ipython",
    "version": 3
   },
   "file_extension": ".py",
   "mimetype": "text/x-python",
   "name": "python",
   "nbconvert_exporter": "python",
   "pygments_lexer": "ipython3",
   "version": "3.12.4"
  }
 },
 "nbformat": 4,
 "nbformat_minor": 5
}
